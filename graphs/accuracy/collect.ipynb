{
 "cells": [
  {
   "cell_type": "code",
   "execution_count": 1,
   "metadata": {},
   "outputs": [],
   "source": [
    "import pandas as pd\n",
    "\n",
    "def collect(t, sheet):\n",
    "    tmp = {}\n",
    "    \n",
    "    for ts in [\"gts\", \"lts\"]:\n",
    "        for rt in [\"fo\", \"tvd\"]:\n",
    "            df = pd.read_excel(f\"./data/dambreak_0_05-{ts}_{rt}.xlsx\", sheet_name=sheet, header=3)\n",
    "            tmp[f\"x\"] = df.iloc[:,0]\n",
    "            tmp[f\"v_ana\"] = df[f\"v_ana, t = {t}\"]\n",
    "            tmp[f\"d_ana\"] = df[f\"d_ana, t = {t}\"]\n",
    "            tmp[f\"v_{ts}_{rt}\"] = df[f\"v_num, t = {t}\"]\n",
    "            tmp[f\"d_{ts}_{rt}\"] = df[f\"d_num, t = {t}\"]\n",
    "\n",
    "    return pd.DataFrame(tmp).set_index(\"x\")\n",
    "\n",
    "for case in [\"wet\", \"dry\"]:\n",
    "    for t in [\"0s\", \"0.3s\", \"0.6s\"]:\n",
    "        df = collect(t, case)\n",
    "\n",
    "        df.to_csv(f\"./data/{case}_t{t}.csv\")\n",
    "\n",
    "        # with open(f\"./data/{case}_t{t}.out\", 'w') as f:\n",
    "        #     for col in df.columns:\n",
    "        #         l = str(list(zip(df.index, df[col]))).replace(\"[\", \"(\").replace(\"]\", \")\")\n",
    "        #         f.write(f\"{col} = \" + l + \"\\n\")"
   ]
  }
 ],
 "metadata": {
  "kernelspec": {
   "display_name": "base",
   "language": "python",
   "name": "python3"
  },
  "language_info": {
   "codemirror_mode": {
    "name": "ipython",
    "version": 3
   },
   "file_extension": ".py",
   "mimetype": "text/x-python",
   "name": "python",
   "nbconvert_exporter": "python",
   "pygments_lexer": "ipython3",
   "version": "3.10.0"
  }
 },
 "nbformat": 4,
 "nbformat_minor": 2
}
